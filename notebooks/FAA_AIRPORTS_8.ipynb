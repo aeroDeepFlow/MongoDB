{
 "cells": [
  {
   "cell_type": "markdown",
   "metadata": {},
   "source": [
    "# 8. Relación entre Aeropuertos - Aerolíneas. "
   ]
  },
  {
   "cell_type": "markdown",
   "metadata": {},
   "source": [
    "En este capítulo anterior se descubrieron las compañias aéreas y los aeropuertos donde los minutos de retraso promedio son mayores:\n",
    "\n",
    "En este capítulo se analizan, para esos aeropuertos y compañias\n",
    "\n",
    "1- los volúmenes de tráfico promedio\n",
    "\n",
    "2- los ratios de:\n",
    "\n",
    "- volumen de los vuelos totales, \n",
    "- volumen de vuelos retrasado \n",
    "- volumen de vuelos cancelados"
   ]
  },
  {
   "cell_type": "markdown",
   "metadata": {},
   "source": [
    "## 8.1 Importación de librerías necesarias"
   ]
  },
  {
   "cell_type": "markdown",
   "metadata": {},
   "source": [
    "Inicialmente se cargan las librerías de python necesarias."
   ]
  },
  {
   "cell_type": "code",
   "execution_count": 1,
   "metadata": {},
   "outputs": [],
   "source": [
    "import numpy as np\n",
    "import pandas as pd\n",
    "import seaborn as sns\n",
    "import matplotlib.pyplot as plt\n",
    "\n",
    "from pymongo import MongoClient\n",
    "\n",
    "sns.set_style(\"darkgrid\")\n",
    "\n",
    "pd.options.display.float_format = '{:,.2f}'.format"
   ]
  },
  {
   "cell_type": "markdown",
   "metadata": {},
   "source": [
    "## 8.2 Conexión con MONGO ATLAS / LOCAL"
   ]
  },
  {
   "cell_type": "code",
   "execution_count": 2,
   "metadata": {},
   "outputs": [],
   "source": [
    "#Mongo Atlas\n",
    "#URI =\"mongodb://sato:<PASSWORD>@satoclusterfaa-shard-00-00-gst6h.\\\n",
    "#azure.mongodb.net:27017,satoclusterfaa-shard-00-01-gst6h.azure.\\\n",
    "#mongodb.net:27017,satoclusterfaa-shard-00-02-gst6h.azure.mongodb\\\n",
    "#.net:27017/test?ssl=true&replicaSet=SatoClusterFAA-shard-0&authSource=admin&retryWrites=true\"\n",
    "\n",
    "#client = MongoClient(URI)\n",
    "#db = client.FAA_Airlines\n",
    "#local\n",
    "client = MongoClient()#\"mongodb://localhost:27017\")\n",
    "db = client.airports"
   ]
  },
  {
   "cell_type": "markdown",
   "metadata": {},
   "source": [
    "Se crea la variable **air** para facilitar las consultas."
   ]
  },
  {
   "cell_type": "code",
   "execution_count": 3,
   "metadata": {},
   "outputs": [],
   "source": [
    "air = db.airlines"
   ]
  },
  {
   "cell_type": "markdown",
   "metadata": {},
   "source": [
    "## 8.3 Evolución histórica de Ratios Vuelos Puntuales, Retrasados y Cancelados respecto a Vuelos Totales por aerolínea WN, AA, EV, MQ y OO y aeropuerto de estudio LGA, ORD, EWR y SFO. "
   ]
  },
  {
   "cell_type": "markdown",
   "metadata": {},
   "source": [
    "En este apartado se va a extraer la evolución histórica, dentro del período de estudio, de los **ratios de vuelos puntuales, retrasados y cancelados respecto a los vuelos totales por aerolínea y aeropuerto de estudio**.\n",
    "\n",
    "Para ello, se realiza la siguiente consulta en la que:\n",
    "\n",
    "- se filtran los años de interés\n",
    "- se agrupa por aerolínea, aeropuerto, año y mes\n",
    "- en dicha agrupación, se calcula la suma de:\n",
    "\n",
    "    - vuelos retrasados\n",
    "    - vuelos cancelados\n",
    "    - vuelos puntuales\n",
    "\n",
    "- se crean los campos:\n",
    "\n",
    "    - ratios vuelos retrasados\n",
    "    - vuelos vuelos cancelados\n",
    "    - vuelos vuelos puntuales\n",
    "    \n",
    "\n",
    "Además, de la consulta, se va a **generar una colección \"Histórico_Aeropuertos_Aerolíneas\"** para facilitar las consultas posteriores.."
   ]
  },
  {
   "cell_type": "markdown",
   "metadata": {},
   "source": [
    "- **Query 29**"
   ]
  },
  {
   "cell_type": "code",
   "execution_count": 4,
   "metadata": {},
   "outputs": [],
   "source": [
    "pipeline29 = [{\"$match\": {\"time.year\": {\"$nin\": [2003, 2016]}}},\n",
    "             {\"$group\": {\"_id\": \n",
    "                        {\"Aerolinea\": \"$carrier.code\",\n",
    "                         \"Aeropuerto\": \"$airport.code\",\n",
    "                         \"year\": \"$time.year\", \n",
    "                         \"month\": \"$time.month\"},\n",
    "                         \"Totales\": {\"$sum\": \"$statistics.flights.total\"},\n",
    "                         \"Retrasados\": {\"$sum\": \"$statistics.flights.delayed\"},\n",
    "                         \"Cancelados\": {\"$sum\": \"$statistics.flights.cancelled\"},\n",
    "                         \"Puntuales\": {\"$sum\": \"$statistics.flights.on time\"}\n",
    "                        }\n",
    "             },\n",
    "             {\"$project\": {\n",
    "                          \"Totales\": \"$Totales\",  \n",
    "                          \"Ratio_Retrasados\": {\"$divide\": [\"$Retrasados\", \"$Totales\"]},\n",
    "                          \"Ratio_Cancelados\": {\"$divide\": [\"$Cancelados\", \"$Totales\"]},\n",
    "                          \"Ratio_Puntuales\": {\"$divide\": [\"$Puntuales\", \"$Totales\"]}\n",
    "                          }\n",
    "             },\n",
    "             {\"$out\": \"Historico_Aeropuertos_Aerolineas\"}\n",
    "             \n",
    "            ]\n",
    "\n",
    "air.aggregate(pipeline29);"
   ]
  },
  {
   "cell_type": "markdown",
   "metadata": {},
   "source": [
    "Se crea la variable **AA** para facilitar las consultas. "
   ]
  },
  {
   "cell_type": "code",
   "execution_count": 5,
   "metadata": {},
   "outputs": [],
   "source": [
    "#Se almacena la colección en una variable\n",
    "AA = db.Historico_Aeropuertos_Aerolineas"
   ]
  },
  {
   "cell_type": "markdown",
   "metadata": {},
   "source": [
    "Una vez obtenida la nueva colección, se procede a utilizarla."
   ]
  },
  {
   "cell_type": "markdown",
   "metadata": {},
   "source": [
    "## 8.4 Promedio de vuelos de las compañías WN, AA, EV, MQ y OO en los aeropuertos LGA, ORD, EWR y SFO durante los años de estudio. "
   ]
  },
  {
   "cell_type": "markdown",
   "metadata": {},
   "source": [
    "Con la siguiente consulta se pretende calcular el total premedio de vuelos en los años de estudio"
   ]
  },
  {
   "cell_type": "markdown",
   "metadata": {},
   "source": [
    "- **Query 30**"
   ]
  },
  {
   "cell_type": "code",
   "execution_count": 6,
   "metadata": {},
   "outputs": [],
   "source": [
    "pipeline30 = [{\"$match\": {\"_id.Aeropuerto\": {\"$in\": [\"LGA\", \"ORD\", \"EWR\", \"SFO\"]},\n",
    "                          \"_id.Aerolinea\": {\"$in\": [\"WN\", \"AA\", \"EV\", \"MQ\", \"OO\"]}\n",
    "                         }\n",
    "              }, \n",
    "              {\"$group\": {\"_id\": {\"Aeropuerto\": \"$_id.Aeropuerto\", \n",
    "                                  \"Aerolinea\": \"$_id.Aerolinea\"}, \n",
    "                                  \"Totales\": {\"$avg\": \"$Totales\"}\n",
    "                         }\n",
    "              },\n",
    "              {\"$project\": {\"Aeropuerto\": \"$_id.Aeropuerto\",\n",
    "                            \"Aerolinea\": \"$_id.Aerolinea\",\n",
    "                            \"Totales\": \"$Totales\",\n",
    "                            \"_id\": 0\n",
    "                           }\n",
    "              }\n",
    "             ]\n",
    "\n",
    "curs30 = AA.aggregate(pipeline30)"
   ]
  },
  {
   "cell_type": "code",
   "execution_count": 7,
   "metadata": {},
   "outputs": [],
   "source": [
    "query30 = list(curs30)"
   ]
  },
  {
   "cell_type": "code",
   "execution_count": 8,
   "metadata": {},
   "outputs": [
    {
     "data": {
      "text/html": [
       "<div>\n",
       "<style scoped>\n",
       "    .dataframe tbody tr th:only-of-type {\n",
       "        vertical-align: middle;\n",
       "    }\n",
       "\n",
       "    .dataframe tbody tr th {\n",
       "        vertical-align: top;\n",
       "    }\n",
       "\n",
       "    .dataframe thead tr th {\n",
       "        text-align: left;\n",
       "    }\n",
       "\n",
       "    .dataframe thead tr:last-of-type th {\n",
       "        text-align: right;\n",
       "    }\n",
       "</style>\n",
       "<table border=\"1\" class=\"dataframe\">\n",
       "  <thead>\n",
       "    <tr>\n",
       "      <th></th>\n",
       "      <th colspan=\"4\" halign=\"left\">Totales</th>\n",
       "    </tr>\n",
       "    <tr>\n",
       "      <th>Aeropuerto</th>\n",
       "      <th>EWR</th>\n",
       "      <th>LGA</th>\n",
       "      <th>ORD</th>\n",
       "      <th>SFO</th>\n",
       "    </tr>\n",
       "    <tr>\n",
       "      <th>Aeropuerto</th>\n",
       "      <th></th>\n",
       "      <th></th>\n",
       "      <th></th>\n",
       "      <th></th>\n",
       "    </tr>\n",
       "  </thead>\n",
       "  <tbody>\n",
       "    <tr>\n",
       "      <th>AA</th>\n",
       "      <td>477.36</td>\n",
       "      <td>1,568.11</td>\n",
       "      <td>5,439.27</td>\n",
       "      <td>993.18</td>\n",
       "    </tr>\n",
       "    <tr>\n",
       "      <th>EV</th>\n",
       "      <td>1,854.72</td>\n",
       "      <td>363.71</td>\n",
       "      <td>2,319.36</td>\n",
       "      <td>43.65</td>\n",
       "    </tr>\n",
       "    <tr>\n",
       "      <th>MQ</th>\n",
       "      <td>189.14</td>\n",
       "      <td>1,375.27</td>\n",
       "      <td>6,856.83</td>\n",
       "      <td>147.14</td>\n",
       "    </tr>\n",
       "    <tr>\n",
       "      <th>OO</th>\n",
       "      <td>77.44</td>\n",
       "      <td>16.93</td>\n",
       "      <td>3,061.15</td>\n",
       "      <td>3,598.30</td>\n",
       "    </tr>\n",
       "    <tr>\n",
       "      <th>WN</th>\n",
       "      <td>494.66</td>\n",
       "      <td>475.65</td>\n",
       "      <td>nan</td>\n",
       "      <td>1,211.98</td>\n",
       "    </tr>\n",
       "  </tbody>\n",
       "</table>\n",
       "</div>"
      ],
      "text/plain": [
       "            Totales                           \n",
       "Aeropuerto      EWR      LGA      ORD      SFO\n",
       "Aeropuerto                                    \n",
       "AA           477.36 1,568.11 5,439.27   993.18\n",
       "EV         1,854.72   363.71 2,319.36    43.65\n",
       "MQ           189.14 1,375.27 6,856.83   147.14\n",
       "OO            77.44    16.93 3,061.15 3,598.30\n",
       "WN           494.66   475.65      nan 1,211.98"
      ]
     },
     "execution_count": 8,
     "metadata": {},
     "output_type": "execute_result"
    }
   ],
   "source": [
    "df30 = pd.DataFrame(query30).set_index([\"Aerolinea\", \"Aeropuerto\"]).unstack()\n",
    "df30.index.name = \"Aeropuerto\"\n",
    "df30.head(10)"
   ]
  },
  {
   "cell_type": "code",
   "execution_count": 9,
   "metadata": {},
   "outputs": [
    {
     "data": {
      "image/png": "[encoded data removed]",
      "text/plain": [
       "<Figure size 1440x576 with 1 Axes>"
      ]
     },
     "metadata": {
      "needs_background": "light"
     },
     "output_type": "display_data"
    }
   ],
   "source": [
    "df30.plot(kind = \"barh\", figsize= (20,8), title = \"PROMEDIO DE VUELOS\");"
   ]
  },
  {
   "cell_type": "markdown",
   "metadata": {},
   "source": [
    "Se aprecia que:\n",
    "\n",
    "- Para las aerolíneas **AA, EV y MQ** las rutas con mayor volumen de vuelos promedio tienen origen y destino en ORL.\n",
    "- Para las aerolíneas **OO y WN** las rutas con mayor volumen de vuelos promedio tienen origen y destino en SFQ.  "
   ]
  },
  {
   "cell_type": "markdown",
   "metadata": {},
   "source": [
    "## 8.6 Combinaciones aeropuertos-aerolíneas con peores Ratios de Vuelos Puntuales, Retrasados y Cancelados respecto a Vuelos Totales. "
   ]
  },
  {
   "cell_type": "markdown",
   "metadata": {},
   "source": [
    "Partiendo de la colección creada, se plantéa la pregunta de cuáles son las combinaciones **aeropuertos-aerolíneas que peores Ratios medios han tenido**, durante los años de estudio.\n",
    "\n",
    "Para esta pregunta se plantea la siguiente consulta.\n",
    "\n",
    "- Se agupa por **aeropuerto y aerolínea**\n",
    "- Se calculan los **ratios medios** "
   ]
  },
  {
   "cell_type": "markdown",
   "metadata": {},
   "source": [
    "- **Query 31**"
   ]
  },
  {
   "cell_type": "code",
   "execution_count": 10,
   "metadata": {},
   "outputs": [],
   "source": [
    "pipeline31 = [{\"$match\": {\"_id.Aeropuerto\": {\"$in\": [\"LGA\", \"ORD\", \"EWR\", \"SFO\"]},\n",
    "                          \"_id.Aerolinea\": {\"$in\": [\"WN\", \"AA\", \"EV\", \"MQ\", \"OO\"]}\n",
    "                         }\n",
    "              }, \n",
    "              {\"$group\": {\"_id\": {\"Aeropuerto\": \"$_id.Aeropuerto\", \n",
    "                                  \"Aerolinea\": \"$_id.Aerolinea\"}, \n",
    "                          \"Ratio_Retrasados\": {\"$avg\": \"$Ratio_Retrasados\"},\n",
    "                          \"Ratio_Cancelados\": {\"$avg\": \"$Ratio_Cancelados\"},\n",
    "                          \"Ratio_Puntuales\": {\"$avg\": \"$Ratio_Puntuales\"}\n",
    "                         }\n",
    "              },\n",
    "              {\"$project\": {\"Aeropuerto\": \"$_id.Aeropuerto\",\n",
    "                            \"Aerolinea\": \"$_id.Aerolinea\",\n",
    "                            \"Ratio_Retrasados\": \"$Ratio_Retrasados\",\n",
    "                            \"Ratio_Cancelados\": \"$Ratio_Cancelados\",\n",
    "                            \"Ratio_Puntuales\": \"$Ratio_Puntuales\",\n",
    "                            \"_id\": 0\n",
    "                           }\n",
    "              }\n",
    "             ]\n",
    "\n",
    "curs31 = AA.aggregate(pipeline31)"
   ]
  },
  {
   "cell_type": "markdown",
   "metadata": {},
   "source": [
    "El cursor obtenido se convierte en lista y se almacena en una lista y se convierte el resultado en un dataframe. Se ofrece una vista de los 10 primeros aeropuertos."
   ]
  },
  {
   "cell_type": "code",
   "execution_count": 11,
   "metadata": {},
   "outputs": [],
   "source": [
    "query31 = list(curs31)"
   ]
  },
  {
   "cell_type": "code",
   "execution_count": 12,
   "metadata": {},
   "outputs": [
    {
     "data": {
      "text/html": [
       "<div>\n",
       "<style scoped>\n",
       "    .dataframe tbody tr th:only-of-type {\n",
       "        vertical-align: middle;\n",
       "    }\n",
       "\n",
       "    .dataframe tbody tr th {\n",
       "        vertical-align: top;\n",
       "    }\n",
       "\n",
       "    .dataframe thead tr th {\n",
       "        text-align: left;\n",
       "    }\n",
       "\n",
       "    .dataframe thead tr:last-of-type th {\n",
       "        text-align: right;\n",
       "    }\n",
       "</style>\n",
       "<table border=\"1\" class=\"dataframe\">\n",
       "  <thead>\n",
       "    <tr>\n",
       "      <th></th>\n",
       "      <th colspan=\"5\" halign=\"left\">Ratio_Cancelados</th>\n",
       "      <th colspan=\"5\" halign=\"left\">Ratio_Puntuales</th>\n",
       "      <th colspan=\"5\" halign=\"left\">Ratio_Retrasados</th>\n",
       "    </tr>\n",
       "    <tr>\n",
       "      <th>Aerolinea</th>\n",
       "      <th>AA</th>\n",
       "      <th>EV</th>\n",
       "      <th>MQ</th>\n",
       "      <th>OO</th>\n",
       "      <th>WN</th>\n",
       "      <th>AA</th>\n",
       "      <th>EV</th>\n",
       "      <th>MQ</th>\n",
       "      <th>OO</th>\n",
       "      <th>WN</th>\n",
       "      <th>AA</th>\n",
       "      <th>EV</th>\n",
       "      <th>MQ</th>\n",
       "      <th>OO</th>\n",
       "      <th>WN</th>\n",
       "    </tr>\n",
       "    <tr>\n",
       "      <th>Aeropuerto</th>\n",
       "      <th></th>\n",
       "      <th></th>\n",
       "      <th></th>\n",
       "      <th></th>\n",
       "      <th></th>\n",
       "      <th></th>\n",
       "      <th></th>\n",
       "      <th></th>\n",
       "      <th></th>\n",
       "      <th></th>\n",
       "      <th></th>\n",
       "      <th></th>\n",
       "      <th></th>\n",
       "      <th></th>\n",
       "      <th></th>\n",
       "    </tr>\n",
       "  </thead>\n",
       "  <tbody>\n",
       "    <tr>\n",
       "      <th>EWR</th>\n",
       "      <td>0.04</td>\n",
       "      <td>0.08</td>\n",
       "      <td>0.08</td>\n",
       "      <td>0.07</td>\n",
       "      <td>0.03</td>\n",
       "      <td>0.66</td>\n",
       "      <td>0.55</td>\n",
       "      <td>0.59</td>\n",
       "      <td>0.49</td>\n",
       "      <td>0.67</td>\n",
       "      <td>0.30</td>\n",
       "      <td>0.35</td>\n",
       "      <td>0.33</td>\n",
       "      <td>0.41</td>\n",
       "      <td>0.30</td>\n",
       "    </tr>\n",
       "    <tr>\n",
       "      <th>LGA</th>\n",
       "      <td>0.04</td>\n",
       "      <td>0.07</td>\n",
       "      <td>0.06</td>\n",
       "      <td>0.09</td>\n",
       "      <td>0.02</td>\n",
       "      <td>0.68</td>\n",
       "      <td>0.62</td>\n",
       "      <td>0.68</td>\n",
       "      <td>0.59</td>\n",
       "      <td>0.68</td>\n",
       "      <td>0.27</td>\n",
       "      <td>0.31</td>\n",
       "      <td>0.26</td>\n",
       "      <td>0.28</td>\n",
       "      <td>0.29</td>\n",
       "    </tr>\n",
       "    <tr>\n",
       "      <th>ORD</th>\n",
       "      <td>0.03</td>\n",
       "      <td>0.07</td>\n",
       "      <td>0.05</td>\n",
       "      <td>0.04</td>\n",
       "      <td>nan</td>\n",
       "      <td>0.74</td>\n",
       "      <td>0.67</td>\n",
       "      <td>0.71</td>\n",
       "      <td>0.72</td>\n",
       "      <td>nan</td>\n",
       "      <td>0.23</td>\n",
       "      <td>0.25</td>\n",
       "      <td>0.24</td>\n",
       "      <td>0.23</td>\n",
       "      <td>nan</td>\n",
       "    </tr>\n",
       "    <tr>\n",
       "      <th>SFO</th>\n",
       "      <td>0.02</td>\n",
       "      <td>0.04</td>\n",
       "      <td>0.04</td>\n",
       "      <td>0.03</td>\n",
       "      <td>0.03</td>\n",
       "      <td>0.69</td>\n",
       "      <td>0.59</td>\n",
       "      <td>0.75</td>\n",
       "      <td>0.70</td>\n",
       "      <td>0.67</td>\n",
       "      <td>0.29</td>\n",
       "      <td>0.38</td>\n",
       "      <td>0.21</td>\n",
       "      <td>0.26</td>\n",
       "      <td>0.30</td>\n",
       "    </tr>\n",
       "  </tbody>\n",
       "</table>\n",
       "</div>"
      ],
      "text/plain": [
       "           Ratio_Cancelados                     Ratio_Puntuales            \\\n",
       "Aerolinea                AA   EV   MQ   OO   WN              AA   EV   MQ   \n",
       "Aeropuerto                                                                  \n",
       "EWR                    0.04 0.08 0.08 0.07 0.03            0.66 0.55 0.59   \n",
       "LGA                    0.04 0.07 0.06 0.09 0.02            0.68 0.62 0.68   \n",
       "ORD                    0.03 0.07 0.05 0.04  nan            0.74 0.67 0.71   \n",
       "SFO                    0.02 0.04 0.04 0.03 0.03            0.69 0.59 0.75   \n",
       "\n",
       "                     Ratio_Retrasados                      \n",
       "Aerolinea    OO   WN               AA   EV   MQ   OO   WN  \n",
       "Aeropuerto                                                 \n",
       "EWR        0.49 0.67             0.30 0.35 0.33 0.41 0.30  \n",
       "LGA        0.59 0.68             0.27 0.31 0.26 0.28 0.29  \n",
       "ORD        0.72  nan             0.23 0.25 0.24 0.23  nan  \n",
       "SFO        0.70 0.67             0.29 0.38 0.21 0.26 0.30  "
      ]
     },
     "execution_count": 12,
     "metadata": {},
     "output_type": "execute_result"
    }
   ],
   "source": [
    "df31 = pd.DataFrame(query31).set_index([\"Aeropuerto\", \"Aerolinea\"]).unstack()\n",
    "df31.index.name = \"Aeropuerto\"\n",
    "df31.head(10)"
   ]
  },
  {
   "cell_type": "code",
   "execution_count": 13,
   "metadata": {},
   "outputs": [
    {
     "data": {
      "image/png": "[encoded data removed]",
      "text/plain": [
       "<Figure size 1440x720 with 2 Axes>"
      ]
     },
     "metadata": {
      "needs_background": "light"
     },
     "output_type": "display_data"
    }
   ],
   "source": [
    "fig1, ax1 = plt.subplots(1, 1, figsize=(20,10));\n",
    "\n",
    "ax1 = sns.heatmap(df31[\"Ratio_Cancelados\"], annot=True, linewidths=.5, cmap=\"YlGnBu\");\n",
    "ax1.set_title(\"CANCELADOS\");"
   ]
  },
  {
   "cell_type": "markdown",
   "metadata": {},
   "source": [
    "Del gráfico anterior se aprecia:\n",
    "\n",
    "- De los cuatro aeropuertos, las aerolínes que más cancelaciones han tenido son **EV, MQ y OO**.\n",
    "- La que menos cancelaciones ha tenido son **AA y WN**.\n",
    "- La aerolínea **WN no opera en el aeropuerto de ORD**."
   ]
  },
  {
   "cell_type": "code",
   "execution_count": 14,
   "metadata": {},
   "outputs": [
    {
     "data": {
      "image/png": "[encoded data removed]",
      "text/plain": [
       "<Figure size 1440x720 with 2 Axes>"
      ]
     },
     "metadata": {
      "needs_background": "light"
     },
     "output_type": "display_data"
    }
   ],
   "source": [
    "fig2, ax2 = plt.subplots(1, 1, figsize=(20, 10));\n",
    "\n",
    "ax2 = sns.heatmap(df31[\"Ratio_Retrasados\"], annot=True, linewidths=.5, cmap=\"YlGnBu\");\n",
    "ax2.set_title(\"RETRASADOS\");"
   ]
  },
  {
   "cell_type": "markdown",
   "metadata": {},
   "source": [
    "Se aprecia que:\n",
    "    \n",
    "- El aeropuerto con más retrasos son **EWR y LGA** y fundamentalmente debidos a las aerolíneas **OO y EV**\n",
    "- El aeropuerto con menos retrasos para esas aerolíneas fue **ORL**  "
   ]
  },
  {
   "cell_type": "code",
   "execution_count": 15,
   "metadata": {},
   "outputs": [
    {
     "data": {
      "image/png": "[encoded data removed]",
      "text/plain": [
       "<Figure size 1440x720 with 2 Axes>"
      ]
     },
     "metadata": {
      "needs_background": "light"
     },
     "output_type": "display_data"
    }
   ],
   "source": [
    "fig3, ax3 = plt.subplots(1, 1, figsize=(20,10));\n",
    "\n",
    "ax3 = sns.heatmap(df31[\"Ratio_Puntuales\"], annot=True, linewidths=.5, cmap=\"YlGnBu\");\n",
    "ax2.set_title(\"PUNTUALES\");"
   ]
  },
  {
   "cell_type": "markdown",
   "metadata": {},
   "source": [
    "Se aprecia que las combinaciones aeropuerto-aerolínea más puntuales han sido:\n",
    "\n",
    "- **MQ-SFO**, \n",
    "- **AA-ORL**,\n",
    "- **OO-ORD**"
   ]
  },
  {
   "cell_type": "markdown",
   "metadata": {},
   "source": [
    "Como recordatorio se muesran a continuación los nombres de las compañias y aeropuertos junto a su código"
   ]
  },
  {
   "cell_type": "markdown",
   "metadata": {},
   "source": [
    "- **Query 32. Compañías Aéreas**"
   ]
  },
  {
   "cell_type": "code",
   "execution_count": 16,
   "metadata": {},
   "outputs": [],
   "source": [
    "curs32 = air.find(\n",
    "                 {\"carrier.code\": {\"$in\": [\"WN\", \"AA\", \"EV\", \"MQ\", \"OO\"]}},\n",
    "                 {\"carrier.code\": 1, \"carrier.name\": 1, \"_id\": 0}\n",
    ")"
   ]
  },
  {
   "cell_type": "code",
   "execution_count": 17,
   "metadata": {},
   "outputs": [],
   "source": [
    "query32 = list(curs32)"
   ]
  },
  {
   "cell_type": "code",
   "execution_count": 18,
   "metadata": {},
   "outputs": [],
   "source": [
    "query32 = [(doc[\"carrier\"]['code'], doc[\"carrier\"]['name']) for doc in query32]\n",
    "query32 = set(query32)"
   ]
  },
  {
   "cell_type": "code",
   "execution_count": 19,
   "metadata": {},
   "outputs": [
    {
     "data": {
      "text/plain": [
       "{('AA', 'American Airlines Inc.'),\n",
       " ('EV', 'Atlantic Southeast Airlines'),\n",
       " ('EV', 'ExpressJet Airlines Inc.'),\n",
       " ('MQ', 'American Eagle Airlines Inc.'),\n",
       " ('MQ', 'Envoy Air'),\n",
       " ('OO', 'SkyWest Airlines Inc.'),\n",
       " ('WN', 'Southwest Airlines Co.')}"
      ]
     },
     "execution_count": 19,
     "metadata": {},
     "output_type": "execute_result"
    }
   ],
   "source": [
    "query32"
   ]
  },
  {
   "cell_type": "markdown",
   "metadata": {},
   "source": [
    "- **Query 33. Aeropuertos**"
   ]
  },
  {
   "cell_type": "code",
   "execution_count": 20,
   "metadata": {},
   "outputs": [],
   "source": [
    "curs33 = air.find(\n",
    "                 {\"airport.code\": {\"$in\": [\"LGA\", \"ORD\", \"EWR\", \"SFO\"]}},\n",
    "                 {\"airport.code\": 1, \"airport.name\": 1, \"_id\": 0}\n",
    ")"
   ]
  },
  {
   "cell_type": "code",
   "execution_count": 21,
   "metadata": {},
   "outputs": [],
   "source": [
    "query33 = list(curs33)"
   ]
  },
  {
   "cell_type": "code",
   "execution_count": 22,
   "metadata": {},
   "outputs": [],
   "source": [
    "query33 = [(doc[\"airport\"]['code'], doc[\"airport\"]['name']) for doc in query33]\n",
    "query33 = set(query33)"
   ]
  },
  {
   "cell_type": "code",
   "execution_count": 23,
   "metadata": {},
   "outputs": [
    {
     "data": {
      "text/plain": [
       "{('EWR', 'Newark, NJ: Newark Liberty International'),\n",
       " ('LGA', 'New York, NY: LaGuardia'),\n",
       " ('ORD', \"Chicago, IL: Chicago O'Hare International\"),\n",
       " ('SFO', 'San Francisco, CA: San Francisco International')}"
      ]
     },
     "execution_count": 23,
     "metadata": {},
     "output_type": "execute_result"
    }
   ],
   "source": [
    "query33"
   ]
  }
 ],
 "metadata": {
  "@webio": {
   "lastCommId": "68d9aeeebae7410b898b68de71c1dbe9",
   "lastKernelId": "f816020b-dfb1-4058-8f40-08f556c68708"
  },
  "kernelspec": {
   "display_name": "Python 3",
   "language": "python",
   "name": "python3"
  },
  "language_info": {
   "codemirror_mode": {
    "name": "ipython",
    "version": 3
   },
   "file_extension": ".py",
   "mimetype": "text/x-python",
   "name": "python",
   "nbconvert_exporter": "python",
   "pygments_lexer": "ipython3",
   "version": "3.7.1"
  }
 },
 "nbformat": 4,
 "nbformat_minor": 2
}
