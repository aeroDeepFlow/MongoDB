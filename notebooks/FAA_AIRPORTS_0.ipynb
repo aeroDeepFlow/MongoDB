{
 "cells": [
  {
   "cell_type": "markdown",
   "metadata": {},
   "source": [
    "# 0. Objetivo del Estudio"
   ]
  },
  {
   "cell_type": "markdown",
   "metadata": {},
   "source": [
    "# 0. Estudio Previo JSON"
   ]
  },
  {
   "cell_type": "markdown",
   "metadata": {},
   "source": [
    "## 0.1 Estructura JSON"
   ]
  },
  {
   "cell_type": "markdown",
   "metadata": {},
   "source": [
    "El JSON seleccionado trata de una **base de datos aeronáutica, del regulador estadounidense FAA, donde se recogen, por cada uno de los aeropuertos y aerolíneas de estudio los siguientes datos históricos estadísticos**:\n",
    "\n",
    "**1- Vuelos:**\n",
    "\n",
    "    - vuelos cancelados\n",
    "    - vuelos puntuales\n",
    "    - vuelos totales\n",
    "    - vuelos retrasados \n",
    "    - vuelos desviados\n",
    "    \n",
    "**2- De los vuelos retrasados, las siguientes causas:**\n",
    "    \n",
    "    - las debidas al aeronave\n",
    "    - las debidas a la climatología\n",
    "    - las debidad a la seguridad\n",
    "    - las debidas a los sistemas de navegación\n",
    "    - las debidas al transportista\n",
    "    \n",
    "**3- Los minutos totales de retraso debido a las causas definidas anteriormente**\n",
    "\n",
    "**4- Año y mes de estudio y de la operación de vuelo**"
   ]
  },
  {
   "cell_type": "markdown",
   "metadata": {},
   "source": [
    "En cuanto **al tamaño**, el JSON seleccionado consta de un total de **54.013 documentos** y su estructura es la que se muesta a continuación."
   ]
  },
  {
   "cell_type": "markdown",
   "metadata": {},
   "source": [
    "### ***`Estructura documento JSON`***\n",
    "\n",
    "\n",
    "**{\n",
    "\n",
    "\t\"airport\" : {\n",
    "\t\t\"code\" : \"ATL\",\n",
    "\t\t\"name\" : \"Atlanta, GA: Hartsfield-Jackson Atlanta International\"\n",
    "\t},\n",
    "\t\"statistics\" : {\n",
    "\t\t\"flights\" : {\n",
    "\t\t\t\"cancelled\" : 5,\n",
    "\t\t\t\"on time\" : 561,\n",
    "\t\t\t\"total\" : 752,\n",
    "\t\t\t\"delayed\" : 186,\n",
    "\t\t\t\"diverted\" : 0\n",
    "\t\t},\n",
    "\t\t\"# of delays\" : {\n",
    "\t\t\t\"late aircraft\" : 18,\n",
    "\t\t\t\"weather\" : 28,\n",
    "\t\t\t\"security\" : 2,\n",
    "\t\t\t\"national aviation system\" : 105,\n",
    "\t\t\t\"carrier\" : 34\n",
    "\t\t},\n",
    "\t\t\"minutes delayed\" : {\n",
    "\t\t\t\"late aircraft\" : 1269,\n",
    "\t\t\t\"weather\" : 1722,\n",
    "\t\t\t\"carrier\" : 1367,\n",
    "\t\t\t\"security\" : 139,\n",
    "\t\t\t\"total\" : 8314,\n",
    "\t\t\t\"national aviation system\" : 3817\n",
    "\t\t}\n",
    "\t}**"
   ]
  },
  {
   "cell_type": "markdown",
   "metadata": {},
   "source": [
    "## 0.2 Importación de librerías necesarias"
   ]
  },
  {
   "cell_type": "markdown",
   "metadata": {},
   "source": [
    "Inicialmente se cargan las librerías de python necesarias."
   ]
  },
  {
   "cell_type": "code",
   "execution_count": null,
   "metadata": {},
   "outputs": [],
   "source": [
    "import numpy as np\n",
    "import pandas as pd\n",
    "import seaborn as sns\n",
    "import matplotlib.pyplot as plt\n",
    "\n",
    "from pymongo import MongoClient\n",
    "\n",
    "sns.set_style(\"darkgrid\")"
   ]
  },
  {
   "cell_type": "markdown",
   "metadata": {},
   "source": [
    "## 0.3 Conexión con MONGO ATLAS"
   ]
  },
  {
   "cell_type": "markdown",
   "metadata": {},
   "source": [
    "Para una conexión a **MONGO ATLAS** se ejecutaría la siguiente cadena de conexión"
   ]
  },
  {
   "cell_type": "code",
   "execution_count": 19,
   "metadata": {},
   "outputs": [],
   "source": [
    "#Mongo Atlas\n",
    "#URI =\"mongodb://sato:<PASSWORD>@satoclusterfaa-shard-00-00-gst6h.\\\n",
    "#azure.mongodb.net:27017,satoclusterfaa-shard-00-01-gst6h.azure.\\\n",
    "#mongodb.net:27017,satoclusterfaa-shard-00-02-gst6h.azure.mongodb\\\n",
    "#.net:27017/test?ssl=true&replicaSet=SatoClusterFAA-shard-0&authSource=admin&retryWrites=true\"\n",
    "\n",
    "#client = MongoClient(URI)\n",
    "#db = client.FAA_Airlines"
   ]
  },
  {
   "cell_type": "markdown",
   "metadata": {},
   "source": [
    "Para importar el archivo JSON se ejecutaría el siguiente código en un terminal"
   ]
  },
  {
   "cell_type": "markdown",
   "metadata": {},
   "source": [
    "**`mongoimport --host SatoClusterFAA-shard-0/satoclusterfaa-shard-00-00-gst6h.azure.mongodb.net:27017,satoclusterfaa-shard-00-01-gst6h.azure.mongodb.net:27017,satoclusterfaa-shard-00-02-gst6h.azure.mongodb.net:27017 --ssl --username sato --password <PASSWORD> --authenticationDatabase admin --db FAA_Airports --collection airlines --type JSON --file /local_path/FAA_AIRPORTS/airlines.json`**"
   ]
  },
  {
   "cell_type": "markdown",
   "metadata": {},
   "source": [
    "## 0.4 Conexión con MONGO LOCAL"
   ]
  },
  {
   "cell_type": "markdown",
   "metadata": {},
   "source": [
    "Para una conexión a **MONGO en local** se ejecutaría la siguiente cadena de conexión"
   ]
  },
  {
   "cell_type": "code",
   "execution_count": 3,
   "metadata": {},
   "outputs": [],
   "source": [
    "#local\n",
    "client = MongoClient()#\"mongodb://localhost:27017\")\n",
    "db = client.airports"
   ]
  },
  {
   "cell_type": "markdown",
   "metadata": {},
   "source": [
    "Para importar el archivo JSON se ejecutaría el siguiente código en un terminal"
   ]
  },
  {
   "cell_type": "markdown",
   "metadata": {},
   "source": [
    "**`mongoimport -v --host localhost:27017 -d \"airports\" -c \"airlines\" --file /local_path/FAA_AIRPORTS/airlines.json --type json`**"
   ]
  },
  {
   "cell_type": "markdown",
   "metadata": {},
   "source": [
    "## 0.5 Características básicas de la colección"
   ]
  },
  {
   "cell_type": "markdown",
   "metadata": {},
   "source": [
    "### *Periodo disponible en estudio*"
   ]
  },
  {
   "cell_type": "markdown",
   "metadata": {},
   "source": [
    "Con esta consulta se trata de averiguar el período de estudio que incluye la colección"
   ]
  },
  {
   "cell_type": "code",
   "execution_count": 8,
   "metadata": {},
   "outputs": [],
   "source": [
    "time_label = db.airlines.distinct(\"time.label\")"
   ]
  },
  {
   "cell_type": "markdown",
   "metadata": {},
   "source": [
    "El código `air.distinct(\"time.label\")` da como resultado una lista de ***time.labels*** única de la siguiente forma:\n",
    "\n",
    "['2003/6',\n",
    " '2003/7',\n",
    " '2003/8',\n",
    " '2003/9',\n",
    " '2003/10',\n",
    " '2003/11',\n",
    " '2003/12',\n",
    " '2004/1',\n",
    " '2004/2',\n",
    " '2004/3',\n",
    " '2004/4',\n",
    " '2004/5',\n",
    " '2004/6',\n",
    " '2004/7',\n",
    " '2004/8',\n",
    " '2004/9',\n",
    " '2004/10',\n",
    " '2004/11',\n",
    " '2004/12',\n",
    " '2005/1',\n",
    " '2005/2',\n",
    " '2005/3',\n",
    " '2005/4',\n",
    " '2005/5',\n",
    " '2005/6',\n",
    " '2005/7',\n",
    " '2005/8',\n",
    " '2005/9',\n",
    " '2005/10',\n",
    " '2005/11',\n",
    " '2006/8',\n",
    " '2005/12',\n",
    " '2006/1',\n",
    " '2006/2',\n",
    " '2006/3',\n",
    " '2006/4',\n",
    " '2006/5',\n",
    " '2006/6',\n",
    " '2006/7',\n",
    " '2006/9',\n",
    " '2006/10',\n",
    " '2006/11',\n",
    " '2006/12',\n",
    " '2007/1',\n",
    " '2007/2',\n",
    " '2007/3',\n",
    " '2007/4',\n",
    " '2007/5',\n",
    " '2007/6',\n",
    " '2007/7',\n",
    " '2007/8',\n",
    " '2007/9',\n",
    " '2007/10',\n",
    " '2007/11',\n",
    " '2007/12',\n",
    " '2008/1',\n",
    " '2008/2',\n",
    " '2008/3',\n",
    " '2008/4',\n",
    " '2008/5',\n",
    " '2008/6',\n",
    " '2008/7',\n",
    " '2008/8',\n",
    " '2008/9',\n",
    " '2008/10',\n",
    " '2008/11',\n",
    " '2008/12',\n",
    " '2009/1',\n",
    " '2009/2',\n",
    " '2009/3',\n",
    " '2009/4',\n",
    " '2009/5',\n",
    " '2009/6',\n",
    " '2009/7',\n",
    " '2009/8',\n",
    " '2009/9',\n",
    " '2009/10',\n",
    " '2009/11',\n",
    " '2009/12',\n",
    " '2010/1',\n",
    " '2010/2',\n",
    " '2010/3',\n",
    " '2010/4',\n",
    " '2010/5',\n",
    " '2010/6',\n",
    " '2010/7',\n",
    " '2010/8',\n",
    " '2010/9',\n",
    " '2010/10',\n",
    " '2010/11',\n",
    " '2010/12',\n",
    " '2011/1',\n",
    " '2011/2',\n",
    " '2011/3',\n",
    " '2011/4',\n",
    " '2011/5',\n",
    " '2011/6',\n",
    " '2011/7',\n",
    " '2011/8',\n",
    " '2011/9',\n",
    " '2011/10',\n",
    " '2011/11',\n",
    " '2011/12',\n",
    " '2012/1',\n",
    " '2012/2',\n",
    " '2012/3',\n",
    " '2012/4',\n",
    " '2012/5',\n",
    " '2012/6',\n",
    " '2012/7',\n",
    " '2012/8',\n",
    " '2012/9',\n",
    " '2012/10',\n",
    " '2012/11',\n",
    " '2012/12',\n",
    " '2013/1',\n",
    " '2013/2',\n",
    " '2013/3',\n",
    " '2013/4',\n",
    " '2013/5',\n",
    " '2013/6',\n",
    " '2013/7',\n",
    " '2013/8',\n",
    " '2013/9',\n",
    " '2013/10',\n",
    " '2013/11',\n",
    " '2013/12',\n",
    " '2014/1',\n",
    " '2014/2',\n",
    " '2014/3',\n",
    " '2014/4',\n",
    " '2014/5',\n",
    " '2014/6',\n",
    " '2014/7',\n",
    " '2014/8',\n",
    " '2014/9',\n",
    " '2014/10',\n",
    " '2014/11',\n",
    " '2014/12',\n",
    " '2015/1',\n",
    " '2015/2',\n",
    " '2015/3',\n",
    " '2015/4',\n",
    " '2015/5',\n",
    " '2015/6',\n",
    " '2015/7',\n",
    " '2015/8',\n",
    " '2015/9',\n",
    " '2015/10',\n",
    " '2015/11',\n",
    " '2015/12',\n",
    " '2016/1']"
   ]
  },
  {
   "cell_type": "markdown",
   "metadata": {},
   "source": [
    "Con el siguiente código se extraen los años y , por cada uno de ellos, se muesta el número de meses completos existentes en la ***Colección***."
   ]
  },
  {
   "cell_type": "code",
   "execution_count": 9,
   "metadata": {},
   "outputs": [
    {
     "data": {
      "text/plain": [
       "{2016: 1,\n",
       " 2003: 7,\n",
       " 2004: 12,\n",
       " 2005: 12,\n",
       " 2006: 12,\n",
       " 2007: 12,\n",
       " 2008: 12,\n",
       " 2009: 12,\n",
       " 2010: 12,\n",
       " 2011: 12,\n",
       " 2012: 12,\n",
       " 2013: 12,\n",
       " 2014: 12,\n",
       " 2015: 12}"
      ]
     },
     "execution_count": 9,
     "metadata": {},
     "output_type": "execute_result"
    }
   ],
   "source": [
    "date = []\n",
    "periodo = {}\n",
    "\n",
    "for label in time_label:\n",
    "    date.append(int(label.split(\"/\")[0]))\n",
    "    \n",
    "for n in set(date):\n",
    "    periodo[n] = date.count(n)\n",
    "\n",
    "periodo"
   ]
  },
  {
   "cell_type": "markdown",
   "metadata": {},
   "source": [
    "Este resultado demuestra que el período de tiempo disponible comprende desde `2003 al 2016`. Aún así, el  estudio no contempla los 12 meses para los años `2003 y 2016` por lo que, a a partir de ahora, no se contemplan dichos años en el estudio. Aún así, se mantienes en la ***Colección***."
   ]
  },
  {
   "cell_type": "markdown",
   "metadata": {},
   "source": [
    "## *Aeropuertos de estudio* "
   ]
  },
  {
   "cell_type": "markdown",
   "metadata": {},
   "source": [
    "Con esta consulta se trata de averiguar los distintos aeropuertos que comprenden el estudio "
   ]
  },
  {
   "cell_type": "code",
   "execution_count": 12,
   "metadata": {},
   "outputs": [
    {
     "data": {
      "text/plain": [
       "29"
      ]
     },
     "execution_count": 12,
     "metadata": {},
     "output_type": "execute_result"
    }
   ],
   "source": [
    "len(db.airlines.distinct(\"airport.name\"))"
   ]
  },
  {
   "cell_type": "code",
   "execution_count": 15,
   "metadata": {},
   "outputs": [
    {
     "data": {
      "text/plain": [
       "['Atlanta, GA: Hartsfield-Jackson Atlanta International',\n",
       " 'Boston, MA: Logan International',\n",
       " 'Baltimore, MD: Baltimore/Washington International Thurgood Marshall',\n",
       " 'Charlotte, NC: Charlotte Douglas International',\n",
       " 'Washington, DC: Ronald Reagan Washington National',\n",
       " 'Denver, CO: Denver International',\n",
       " 'Dallas/Fort Worth, TX: Dallas/Fort Worth International',\n",
       " 'Detroit, MI: Detroit Metro Wayne County',\n",
       " 'Newark, NJ: Newark Liberty International',\n",
       " 'Fort Lauderdale, FL: Fort Lauderdale-Hollywood International',\n",
       " 'Washington, DC: Washington Dulles International',\n",
       " 'Houston, TX: George Bush Intercontinental/Houston',\n",
       " 'New York, NY: John F. Kennedy International',\n",
       " 'Las Vegas, NV: McCarran International',\n",
       " 'Los Angeles, CA: Los Angeles International',\n",
       " 'New York, NY: LaGuardia',\n",
       " 'Orlando, FL: Orlando International',\n",
       " 'Chicago, IL: Chicago Midway International',\n",
       " 'Miami, FL: Miami International',\n",
       " 'Minneapolis, MN: Minneapolis-St Paul International',\n",
       " \"Chicago, IL: Chicago O'Hare International\",\n",
       " 'Portland, OR: Portland International',\n",
       " 'Philadelphia, PA: Philadelphia International',\n",
       " 'Phoenix, AZ: Phoenix Sky Harbor International',\n",
       " 'San Diego, CA: San Diego International',\n",
       " 'Seattle, WA: Seattle/Tacoma International',\n",
       " 'San Francisco, CA: San Francisco International',\n",
       " 'Salt Lake City, UT: Salt Lake City International',\n",
       " 'Tampa, FL: Tampa International']"
      ]
     },
     "execution_count": 15,
     "metadata": {},
     "output_type": "execute_result"
    }
   ],
   "source": [
    "db.airlines.distinct(\"airport.name\")"
   ]
  },
  {
   "cell_type": "markdown",
   "metadata": {},
   "source": [
    "### *Compañías Aéreas de Estudio* "
   ]
  },
  {
   "cell_type": "markdown",
   "metadata": {},
   "source": [
    "Con esta consulta se trata de averiguar las distintas **aerolíneas** que comprenden el estudio "
   ]
  },
  {
   "cell_type": "code",
   "execution_count": 17,
   "metadata": {},
   "outputs": [
    {
     "data": {
      "text/plain": [
       "28"
      ]
     },
     "execution_count": 17,
     "metadata": {},
     "output_type": "execute_result"
    }
   ],
   "source": [
    "len(db.airlines.distinct(\"carrier.name\"))"
   ]
  },
  {
   "cell_type": "code",
   "execution_count": 18,
   "metadata": {},
   "outputs": [
    {
     "data": {
      "text/plain": [
       "['American Airlines Inc.',\n",
       " 'Alaska Airlines Inc.',\n",
       " 'JetBlue Airways',\n",
       " 'Continental Air Lines Inc.',\n",
       " 'Atlantic Coast Airlines',\n",
       " 'Delta Air Lines Inc.',\n",
       " 'Atlantic Southeast Airlines',\n",
       " 'AirTran Airways Corporation',\n",
       " 'America West Airlines Inc.',\n",
       " 'American Eagle Airlines Inc.',\n",
       " 'Northwest Airlines Inc.',\n",
       " 'SkyWest Airlines Inc.',\n",
       " 'ExpressJet Airlines Inc.',\n",
       " 'ATA Airlines d/b/a ATA',\n",
       " 'United Air Lines Inc.',\n",
       " 'US Airways Inc.',\n",
       " 'Southwest Airlines Co.',\n",
       " 'Hawaiian Airlines Inc.',\n",
       " 'Comair Inc.',\n",
       " 'Independence Air',\n",
       " 'Frontier Airlines Inc.',\n",
       " 'Mesa Airlines Inc.',\n",
       " 'Aloha Airlines Inc.',\n",
       " 'Pinnacle Airlines Inc.',\n",
       " 'Virgin America',\n",
       " 'Endeavor Air Inc.',\n",
       " 'Envoy Air',\n",
       " 'Spirit Air Lines']"
      ]
     },
     "execution_count": 18,
     "metadata": {},
     "output_type": "execute_result"
    }
   ],
   "source": [
    "db.airlines.distinct(\"carrier.name\")"
   ]
  }
 ],
 "metadata": {
  "@webio": {
   "lastCommId": "782bb2ae3e574a8aae0e4da55563ee14",
   "lastKernelId": "2850e98b-1f46-4425-8aa6-8ed7472e0be8"
  },
  "kernelspec": {
   "display_name": "Python 3",
   "language": "python",
   "name": "python3"
  },
  "language_info": {
   "codemirror_mode": {
    "name": "ipython",
    "version": 3
   },
   "file_extension": ".py",
   "mimetype": "text/x-python",
   "name": "python",
   "nbconvert_exporter": "python",
   "pygments_lexer": "ipython3",
   "version": "3.7.1"
  }
 },
 "nbformat": 4,
 "nbformat_minor": 2
}
