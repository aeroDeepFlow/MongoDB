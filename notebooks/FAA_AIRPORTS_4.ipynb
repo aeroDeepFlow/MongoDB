{
 "cells": [
  {
   "cell_type": "markdown",
   "metadata": {},
   "source": [
    "# 4. Variación anual de Ratios Vuelos Puntuales, Retrasados y Cancelados respecto a los totales."
   ]
  },
  {
   "cell_type": "markdown",
   "metadata": {},
   "source": [
    "## 4.1 Importación de librerías necesarias"
   ]
  },
  {
   "cell_type": "code",
   "execution_count": 1,
   "metadata": {},
   "outputs": [],
   "source": [
    "import numpy as np\n",
    "import pandas as pd\n",
    "import seaborn as sns\n",
    "import matplotlib.pyplot as plt\n",
    "\n",
    "from pymongo import MongoClient\n",
    "\n",
    "sns.set_style(\"darkgrid\")\n",
    "\n",
    "pd.options.display.float_format = '{:,.2f}'.format"
   ]
  },
  {
   "cell_type": "markdown",
   "metadata": {},
   "source": [
    "## 4.2 Conexión con MONGO ATLAS / LOCAL"
   ]
  },
  {
   "cell_type": "code",
   "execution_count": 2,
   "metadata": {},
   "outputs": [],
   "source": [
    "#Mongo Atlas\n",
    "#URI =\"mongodb://sato:<PASSWORD>@satoclusterfaa-shard-00-00-gst6h.\\\n",
    "#azure.mongodb.net:27017,satoclusterfaa-shard-00-01-gst6h.azure.\\\n",
    "#mongodb.net:27017,satoclusterfaa-shard-00-02-gst6h.azure.mongodb\\\n",
    "#.net:27017/test?ssl=true&replicaSet=SatoClusterFAA-shard-0&authSource=admin&retryWrites=true\"\n",
    "\n",
    "#client = MongoClient(URI)\n",
    "#db = client.FAA_Airlines\n",
    "\n",
    "#local\n",
    "client = MongoClient()#\"mongodb://localhost:27017\")\n",
    "db = client.airports"
   ]
  },
  {
   "cell_type": "code",
   "execution_count": 3,
   "metadata": {},
   "outputs": [],
   "source": [
    "air = db.airlines"
   ]
  },
  {
   "cell_type": "markdown",
   "metadata": {},
   "source": [
    "Sería interesante estudiar los **vuelos retrasados, cancelados y puntuales independientemente del volumen de operaciones existentes ya que, como se ha visto anteriormente, los retrasos y las cancelaciones dependen del volumen de tráfico, esto es, son proporcionales de forma directa**."
   ]
  },
  {
   "cell_type": "markdown",
   "metadata": {},
   "source": [
    "- **Query 5**"
   ]
  },
  {
   "cell_type": "code",
   "execution_count": 4,
   "metadata": {},
   "outputs": [],
   "source": [
    "pipeline5 = [{\"$match\": {\"time.year\": {\"$nin\": [2003, 2016]}}},\n",
    "             {\"$group\": {\"_id\": \"$time.year\", \n",
    "                         \"Totales\": {\"$sum\": \"$statistics.flights.total\"},\n",
    "                         \"Retrasados\": {\"$sum\": \"$statistics.flights.delayed\"},\n",
    "                         \"Cancelados\": {\"$sum\": \"$statistics.flights.cancelled\"},\n",
    "                         \"Puntuales\": {\"$sum\": \"$statistics.flights.on time\"}\n",
    "                        }\n",
    "             },\n",
    "             {\"$project\": {\n",
    "                          \"Ratio_Retrasados\": {\"$divide\": [\"$Retrasados\", \"$Totales\"]},\n",
    "                          \"Ratio_Cancelados\": {\"$divide\": [\"$Cancelados\", \"$Totales\"]},\n",
    "                          \"Ratio_Puntuales\": {\"$divide\": [\"$Puntuales\", \"$Totales\"]}\n",
    "                          }\n",
    "             }\n",
    "            ]\n",
    "\n",
    "curs5 = air.aggregate(pipeline5)"
   ]
  },
  {
   "cell_type": "markdown",
   "metadata": {},
   "source": [
    "Con el cursor obtenido de la consulta, se crea un **DataFrame** con los resultados de la misma."
   ]
  },
  {
   "cell_type": "code",
   "execution_count": 5,
   "metadata": {},
   "outputs": [],
   "source": [
    "query5 = list(curs5)"
   ]
  },
  {
   "cell_type": "code",
   "execution_count": 6,
   "metadata": {},
   "outputs": [
    {
     "data": {
      "text/html": [
       "<div>\n",
       "<style scoped>\n",
       "    .dataframe tbody tr th:only-of-type {\n",
       "        vertical-align: middle;\n",
       "    }\n",
       "\n",
       "    .dataframe tbody tr th {\n",
       "        vertical-align: top;\n",
       "    }\n",
       "\n",
       "    .dataframe thead th {\n",
       "        text-align: right;\n",
       "    }\n",
       "</style>\n",
       "<table border=\"1\" class=\"dataframe\">\n",
       "  <thead>\n",
       "    <tr style=\"text-align: right;\">\n",
       "      <th></th>\n",
       "      <th>Ratio_Cancelados</th>\n",
       "      <th>Ratio_Puntuales</th>\n",
       "      <th>Ratio_Retrasados</th>\n",
       "    </tr>\n",
       "    <tr>\n",
       "      <th>Year</th>\n",
       "      <th></th>\n",
       "      <th></th>\n",
       "      <th></th>\n",
       "    </tr>\n",
       "  </thead>\n",
       "  <tbody>\n",
       "    <tr>\n",
       "      <th>2,004.00</th>\n",
       "      <td>0.02</td>\n",
       "      <td>0.78</td>\n",
       "      <td>0.20</td>\n",
       "    </tr>\n",
       "    <tr>\n",
       "      <th>2,005.00</th>\n",
       "      <td>0.02</td>\n",
       "      <td>0.77</td>\n",
       "      <td>0.21</td>\n",
       "    </tr>\n",
       "    <tr>\n",
       "      <th>2,006.00</th>\n",
       "      <td>0.02</td>\n",
       "      <td>0.75</td>\n",
       "      <td>0.23</td>\n",
       "    </tr>\n",
       "    <tr>\n",
       "      <th>2,007.00</th>\n",
       "      <td>0.02</td>\n",
       "      <td>0.73</td>\n",
       "      <td>0.25</td>\n",
       "    </tr>\n",
       "    <tr>\n",
       "      <th>2,008.00</th>\n",
       "      <td>0.02</td>\n",
       "      <td>0.75</td>\n",
       "      <td>0.22</td>\n",
       "    </tr>\n",
       "    <tr>\n",
       "      <th>2,009.00</th>\n",
       "      <td>0.01</td>\n",
       "      <td>0.79</td>\n",
       "      <td>0.19</td>\n",
       "    </tr>\n",
       "    <tr>\n",
       "      <th>2,010.00</th>\n",
       "      <td>0.02</td>\n",
       "      <td>0.80</td>\n",
       "      <td>0.18</td>\n",
       "    </tr>\n",
       "    <tr>\n",
       "      <th>2,011.00</th>\n",
       "      <td>0.02</td>\n",
       "      <td>0.80</td>\n",
       "      <td>0.18</td>\n",
       "    </tr>\n",
       "    <tr>\n",
       "      <th>2,012.00</th>\n",
       "      <td>0.01</td>\n",
       "      <td>0.82</td>\n",
       "      <td>0.17</td>\n",
       "    </tr>\n",
       "    <tr>\n",
       "      <th>2,013.00</th>\n",
       "      <td>0.02</td>\n",
       "      <td>0.79</td>\n",
       "      <td>0.20</td>\n",
       "    </tr>\n",
       "    <tr>\n",
       "      <th>2,014.00</th>\n",
       "      <td>0.02</td>\n",
       "      <td>0.77</td>\n",
       "      <td>0.21</td>\n",
       "    </tr>\n",
       "    <tr>\n",
       "      <th>2,015.00</th>\n",
       "      <td>0.02</td>\n",
       "      <td>0.80</td>\n",
       "      <td>0.18</td>\n",
       "    </tr>\n",
       "  </tbody>\n",
       "</table>\n",
       "</div>"
      ],
      "text/plain": [
       "          Ratio_Cancelados  Ratio_Puntuales  Ratio_Retrasados\n",
       "Year                                                         \n",
       "2,004.00              0.02             0.78              0.20\n",
       "2,005.00              0.02             0.77              0.21\n",
       "2,006.00              0.02             0.75              0.23\n",
       "2,007.00              0.02             0.73              0.25\n",
       "2,008.00              0.02             0.75              0.22\n",
       "2,009.00              0.01             0.79              0.19\n",
       "2,010.00              0.02             0.80              0.18\n",
       "2,011.00              0.02             0.80              0.18\n",
       "2,012.00              0.01             0.82              0.17\n",
       "2,013.00              0.02             0.79              0.20\n",
       "2,014.00              0.02             0.77              0.21\n",
       "2,015.00              0.02             0.80              0.18"
      ]
     },
     "execution_count": 6,
     "metadata": {},
     "output_type": "execute_result"
    }
   ],
   "source": [
    "df5 = pd.DataFrame(query5).set_index(['_id']).sort_index()\n",
    "df5.index.name = \"Year\"\n",
    "df5"
   ]
  },
  {
   "cell_type": "markdown",
   "metadata": {},
   "source": [
    "## 4.3 Gráficos Variación anual de Ratios Vuelos Puntuales, Retrasados y Cancelados respecto a los totales. \n",
    "\n",
    "Finalmente, se crean los gráficos correspondientes a las evoluciones de:\n",
    "- Ratio Vuelos Cancelados\n",
    "- Ratio Vuelos Retrasados\n",
    "- Ratio Vuelos Puntuales"
   ]
  },
  {
   "cell_type": "code",
   "execution_count": 7,
   "metadata": {},
   "outputs": [
    {
     "data": {
      "image/png": "[encoded data removed]",
      "text/plain": [
       "<Figure size 1296x1080 with 3 Axes>"
      ]
     },
     "metadata": {
      "needs_background": "light"
     },
     "output_type": "display_data"
    }
   ],
   "source": [
    "fig2, (ax1, ax2, ax3) = plt.subplots(3, 1, figsize=(18,15));\n",
    "\n",
    "sns.barplot(x=df5.index, y= df5.iloc[:,0], color= \"darkblue\", ax=ax1);\n",
    "ax1.set_ylabel(\"RATIO CANCELADOS\");\n",
    "ax1.set_xlabel(\"AÑOS\");\n",
    "\n",
    "sns.barplot(x=df5.index, y= df5.iloc[:,1], color= 'SkyBlue', ax=ax2);\n",
    "ax2.set_ylabel(\"RATIO PUNTUALES\");\n",
    "ax2.set_xlabel(\"AÑOS\");\n",
    "\n",
    "sns.barplot(x=df5.index, y= df5.iloc[:,2], color= 'IndianRed', ax=ax3);\n",
    "ax3.set_ylabel(\"RATIO RETRASADOS\");\n",
    "ax3.set_xlabel(\"AÑOS\");"
   ]
  },
  {
   "cell_type": "markdown",
   "metadata": {},
   "source": [
    "## 4.4 Cáculo de Ratios medios, máximos y mínimos en Vuelos Puntuales, Retrasados y Cancelados respecto a los totales."
   ]
  },
  {
   "cell_type": "markdown",
   "metadata": {},
   "source": [
    "Como en el apartado anterior, se pretende obtener los ***valores medios, máximos y mínimos*** de los Ratios anteriores durante el período de estudio. Los pasos a seguir son los siguientes.\n",
    "\n",
    "- Se seleccionan los años que sean distintos a 2003 y 2016.\n",
    "- Se agrupa por año y se calcula los **ratios**.\n",
    "- Se genera una **nueva colección** con los ratios. \n",
    "- Se calculan los **valores medios, máximos y minimos de los ratios anteriores**."
   ]
  },
  {
   "cell_type": "markdown",
   "metadata": {},
   "source": [
    "Con la siguiente query se genera la nueva colección **Ratios_Anuales** que se guarda en **Mongo**."
   ]
  },
  {
   "cell_type": "code",
   "execution_count": 8,
   "metadata": {},
   "outputs": [],
   "source": [
    "pipeline5a = [{\"$match\": {\"time.year\": {\"$nin\": [2003, 2016]}}},\n",
    "             {\"$group\": {\"_id\": \"$time.year\", \n",
    "                         \"Totales\": {\"$sum\": \"$statistics.flights.total\"},\n",
    "                         \"Retrasados\": {\"$sum\": \"$statistics.flights.delayed\"},\n",
    "                         \"Cancelados\": {\"$sum\": \"$statistics.flights.cancelled\"},\n",
    "                         \"Puntuales\": {\"$sum\": \"$statistics.flights.on time\"}\n",
    "                        }\n",
    "             },\n",
    "             {\"$project\": {\n",
    "                          \"Ratio_Retrasados\": {\"$divide\": [\"$Retrasados\", \"$Totales\"]},\n",
    "                          \"Ratio_Cancelados\": {\"$divide\": [\"$Cancelados\", \"$Totales\"]},\n",
    "                          \"Ratio_Puntuales\": {\"$divide\": [\"$Puntuales\", \"$Totales\"]}\n",
    "                          }\n",
    "             },\n",
    "             {\"$out\": \"Ratios_Anuales\"}\n",
    "            ]\n",
    "\n",
    "air.aggregate(pipeline5a);"
   ]
  },
  {
   "cell_type": "markdown",
   "metadata": {},
   "source": [
    "- **Query 6. Ratios Medios**"
   ]
  },
  {
   "cell_type": "code",
   "execution_count": 9,
   "metadata": {},
   "outputs": [],
   "source": [
    "ratios = db.Ratios_Anuales"
   ]
  },
  {
   "cell_type": "code",
   "execution_count": 10,
   "metadata": {},
   "outputs": [
    {
     "data": {
      "text/plain": [
       "{'Media_Ratio_Retrasados': 0.20248100129727428,\n",
       " 'Media_Ratio_Cancelados': 0.017984020651301773,\n",
       " 'Media_Ratio_Puntuales': 0.7771698142878684}"
      ]
     },
     "execution_count": 10,
     "metadata": {},
     "output_type": "execute_result"
    }
   ],
   "source": [
    "pipeline6 = [{\"$group\": {\"_id\": \"null\",\n",
    "                             \"Media_Ratio_Retrasados\": {\"$avg\": \"$Ratio_Retrasados\"},\n",
    "                             \"Media_Ratio_Cancelados\": {\"$avg\": \"$Ratio_Cancelados\"},\n",
    "                             \"Media_Ratio_Puntuales\": {\"$avg\": \"$Ratio_Puntuales\"}                       \n",
    "                             }\n",
    "                           },\n",
    "                          {\"$project\": {\"_id\": 0}}\n",
    "                         ]\n",
    "\n",
    "curs6 = ratios.aggregate(pipeline6)\n",
    "\n",
    "Medias_Ratio =list(curs6)[0]\n",
    "Medias_Ratio"
   ]
  },
  {
   "cell_type": "markdown",
   "metadata": {},
   "source": [
    "Con lo anterior ya se pueden obtener los años en los que:"
   ]
  },
  {
   "cell_type": "markdown",
   "metadata": {},
   "source": [
    "- **Query 6.1.**"
   ]
  },
  {
   "cell_type": "markdown",
   "metadata": {},
   "source": [
    "1- Los años en los que los **Cancelaciones fueron mayores en términos relativos** a la media"
   ]
  },
  {
   "cell_type": "code",
   "execution_count": 11,
   "metadata": {},
   "outputs": [
    {
     "data": {
      "text/plain": [
       "[{'_id': 2007.0, 'Ratio_Cancelados': 0.022620969803159113},\n",
       " {'_id': 2014.0, 'Ratio_Cancelados': 0.021415810226867758},\n",
       " {'_id': 2008.0, 'Ratio_Cancelados': 0.020347525993877402},\n",
       " {'_id': 2011.0, 'Ratio_Cancelados': 0.01974539258454947},\n",
       " {'_id': 2005.0, 'Ratio_Cancelados': 0.01902082577840011},\n",
       " {'_id': 2010.0, 'Ratio_Cancelados': 0.018519432838974892}]"
      ]
     },
     "execution_count": 11,
     "metadata": {},
     "output_type": "execute_result"
    }
   ],
   "source": [
    "cancelMmedia = ratios.find({\"Ratio_Cancelados\": {\"$gt\": Medias_Ratio[\"Media_Ratio_Cancelados\"]}},\n",
    "                 {\"_id\": 1, 'Ratio_Cancelados': 1}).sort(\"Ratio_Cancelados\", -1) \n",
    "list(cancelMmedia)                                           "
   ]
  },
  {
   "cell_type": "markdown",
   "metadata": {},
   "source": [
    "Se aprecia cómo el **peor año en términos de cancelaciones se produjo en 2007 seguido de 2014**."
   ]
  },
  {
   "cell_type": "markdown",
   "metadata": {},
   "source": [
    "- **Query 6.2.**"
   ]
  },
  {
   "cell_type": "markdown",
   "metadata": {},
   "source": [
    "2- Los años en los que las **Retrasos fueron mayores en términos relativos** a la media"
   ]
  },
  {
   "cell_type": "code",
   "execution_count": 12,
   "metadata": {},
   "outputs": [
    {
     "data": {
      "text/plain": [
       "[{'_id': 2007.0, 'Ratio_Retrasados': 0.24885798970934814},\n",
       " {'_id': 2006.0, 'Ratio_Retrasados': 0.230874962144701},\n",
       " {'_id': 2008.0, 'Ratio_Retrasados': 0.22405168109100812},\n",
       " {'_id': 2005.0, 'Ratio_Retrasados': 0.21163218111169899},\n",
       " {'_id': 2014.0, 'Ratio_Retrasados': 0.20820566373245558},\n",
       " {'_id': 2004.0, 'Ratio_Retrasados': 0.20269981943662846}]"
      ]
     },
     "execution_count": 12,
     "metadata": {},
     "output_type": "execute_result"
    }
   ],
   "source": [
    "RetrasoMmedia = ratios.find({\"Ratio_Retrasados\": {\"$gt\": Medias_Ratio[\"Media_Ratio_Retrasados\"]}},\n",
    "                 {\"_id\": 1, 'Ratio_Retrasados': 1}).sort(\"Ratio_Retrasados\", -1) \n",
    "list(RetrasoMmedia)   "
   ]
  },
  {
   "cell_type": "markdown",
   "metadata": {},
   "source": [
    "Se aprecia cómo el **peor año en términos de retrasos se produjo tambien en 2007 seguido de 2006**."
   ]
  },
  {
   "cell_type": "markdown",
   "metadata": {},
   "source": [
    "- **Query 6.3.**"
   ]
  },
  {
   "cell_type": "markdown",
   "metadata": {},
   "source": [
    "3- Los años en los que la **Puntualidad fue mejor en términos relativos** a la media"
   ]
  },
  {
   "cell_type": "code",
   "execution_count": 13,
   "metadata": {},
   "outputs": [
    {
     "data": {
      "text/plain": [
       "[{'_id': 2012.0, 'Ratio_Puntuales': 0.8180302872865349},\n",
       " {'_id': 2015.0, 'Ratio_Puntuales': 0.7990258064149397},\n",
       " {'_id': 2010.0, 'Ratio_Puntuales': 0.7982493213639277},\n",
       " {'_id': 2011.0, 'Ratio_Puntuales': 0.7954803296718702},\n",
       " {'_id': 2009.0, 'Ratio_Puntuales': 0.788161875758251},\n",
       " {'_id': 2013.0, 'Ratio_Puntuales': 0.7866391685126827},\n",
       " {'_id': 2004.0, 'Ratio_Puntuales': 0.7773516681684843}]"
      ]
     },
     "execution_count": 13,
     "metadata": {},
     "output_type": "execute_result"
    }
   ],
   "source": [
    "PuntualMmedia = ratios.find({\"Ratio_Puntuales\": {\"$gt\": Medias_Ratio[\"Media_Ratio_Puntuales\"]}},\n",
    "                 {\"_id\": 1, 'Ratio_Puntuales': 1}).sort('Ratio_Puntuales', -1) \n",
    "list(PuntualMmedia)  "
   ]
  },
  {
   "cell_type": "markdown",
   "metadata": {},
   "source": [
    "Se aprecia cómo el **mejor año en términos de puntualidad se produjo en 2012 seguido de 2015**."
   ]
  }
 ],
 "metadata": {
  "@webio": {
   "lastCommId": "5f69c628148344bd8336e9a26c5d9acb",
   "lastKernelId": "990b4163-a262-4bfb-a7e9-c21d8a3030d9"
  },
  "kernelspec": {
   "display_name": "Python 3",
   "language": "python",
   "name": "python3"
  },
  "language_info": {
   "codemirror_mode": {
    "name": "ipython",
    "version": 3
   },
   "file_extension": ".py",
   "mimetype": "text/x-python",
   "name": "python",
   "nbconvert_exporter": "python",
   "pygments_lexer": "ipython3",
   "version": "3.7.1"
  }
 },
 "nbformat": 4,
 "nbformat_minor": 2
}
